{
 "cells": [
  {
   "cell_type": "code",
   "execution_count": 1,
   "id": "39d38971",
   "metadata": {},
   "outputs": [],
   "source": [
    "import pandas as pd"
   ]
  },
  {
   "cell_type": "code",
   "execution_count": 2,
   "id": "a93bc4f0",
   "metadata": {},
   "outputs": [],
   "source": [
    "df=pd.read_csv(\"apple_products.csv\")"
   ]
  },
  {
   "cell_type": "code",
   "execution_count": 4,
   "id": "b9e250d2",
   "metadata": {},
   "outputs": [
    {
     "data": {
      "text/html": [
       "<div>\n",
       "<style scoped>\n",
       "    .dataframe tbody tr th:only-of-type {\n",
       "        vertical-align: middle;\n",
       "    }\n",
       "\n",
       "    .dataframe tbody tr th {\n",
       "        vertical-align: top;\n",
       "    }\n",
       "\n",
       "    .dataframe thead th {\n",
       "        text-align: right;\n",
       "    }\n",
       "</style>\n",
       "<table border=\"1\" class=\"dataframe\">\n",
       "  <thead>\n",
       "    <tr style=\"text-align: right;\">\n",
       "      <th></th>\n",
       "      <th>Product Name</th>\n",
       "      <th>Product URL</th>\n",
       "      <th>Brand</th>\n",
       "      <th>Sale Price</th>\n",
       "      <th>Mrp</th>\n",
       "      <th>Discount Percentage</th>\n",
       "      <th>Number Of Ratings</th>\n",
       "      <th>Number Of Reviews</th>\n",
       "      <th>Upc</th>\n",
       "      <th>Star Rating</th>\n",
       "      <th>Ram</th>\n",
       "    </tr>\n",
       "  </thead>\n",
       "  <tbody>\n",
       "    <tr>\n",
       "      <th>0</th>\n",
       "      <td>APPLE iPhone 8 Plus (Gold, 64 GB)</td>\n",
       "      <td>https://www.flipkart.com/apple-iphone-8-plus-g...</td>\n",
       "      <td>Apple</td>\n",
       "      <td>49900</td>\n",
       "      <td>49900</td>\n",
       "      <td>0</td>\n",
       "      <td>3431</td>\n",
       "      <td>356</td>\n",
       "      <td>MOBEXRGV7EHHTGUH</td>\n",
       "      <td>4.6</td>\n",
       "      <td>2 GB</td>\n",
       "    </tr>\n",
       "    <tr>\n",
       "      <th>1</th>\n",
       "      <td>APPLE iPhone 8 Plus (Space Grey, 256 GB)</td>\n",
       "      <td>https://www.flipkart.com/apple-iphone-8-plus-s...</td>\n",
       "      <td>Apple</td>\n",
       "      <td>84900</td>\n",
       "      <td>84900</td>\n",
       "      <td>0</td>\n",
       "      <td>3431</td>\n",
       "      <td>356</td>\n",
       "      <td>MOBEXRGVAC6TJT4F</td>\n",
       "      <td>4.6</td>\n",
       "      <td>2 GB</td>\n",
       "    </tr>\n",
       "    <tr>\n",
       "      <th>2</th>\n",
       "      <td>APPLE iPhone 8 Plus (Silver, 256 GB)</td>\n",
       "      <td>https://www.flipkart.com/apple-iphone-8-plus-s...</td>\n",
       "      <td>Apple</td>\n",
       "      <td>84900</td>\n",
       "      <td>84900</td>\n",
       "      <td>0</td>\n",
       "      <td>3431</td>\n",
       "      <td>356</td>\n",
       "      <td>MOBEXRGVGETABXWZ</td>\n",
       "      <td>4.6</td>\n",
       "      <td>2 GB</td>\n",
       "    </tr>\n",
       "    <tr>\n",
       "      <th>3</th>\n",
       "      <td>APPLE iPhone 8 (Silver, 256 GB)</td>\n",
       "      <td>https://www.flipkart.com/apple-iphone-8-silver...</td>\n",
       "      <td>Apple</td>\n",
       "      <td>77000</td>\n",
       "      <td>77000</td>\n",
       "      <td>0</td>\n",
       "      <td>11202</td>\n",
       "      <td>794</td>\n",
       "      <td>MOBEXRGVMZWUHCBA</td>\n",
       "      <td>4.5</td>\n",
       "      <td>2 GB</td>\n",
       "    </tr>\n",
       "    <tr>\n",
       "      <th>4</th>\n",
       "      <td>APPLE iPhone 8 (Gold, 256 GB)</td>\n",
       "      <td>https://www.flipkart.com/apple-iphone-8-gold-2...</td>\n",
       "      <td>Apple</td>\n",
       "      <td>77000</td>\n",
       "      <td>77000</td>\n",
       "      <td>0</td>\n",
       "      <td>11202</td>\n",
       "      <td>794</td>\n",
       "      <td>MOBEXRGVPK7PFEJZ</td>\n",
       "      <td>4.5</td>\n",
       "      <td>2 GB</td>\n",
       "    </tr>\n",
       "  </tbody>\n",
       "</table>\n",
       "</div>"
      ],
      "text/plain": [
       "                               Product Name  \\\n",
       "0         APPLE iPhone 8 Plus (Gold, 64 GB)   \n",
       "1  APPLE iPhone 8 Plus (Space Grey, 256 GB)   \n",
       "2      APPLE iPhone 8 Plus (Silver, 256 GB)   \n",
       "3           APPLE iPhone 8 (Silver, 256 GB)   \n",
       "4             APPLE iPhone 8 (Gold, 256 GB)   \n",
       "\n",
       "                                         Product URL  Brand  Sale Price  \\\n",
       "0  https://www.flipkart.com/apple-iphone-8-plus-g...  Apple       49900   \n",
       "1  https://www.flipkart.com/apple-iphone-8-plus-s...  Apple       84900   \n",
       "2  https://www.flipkart.com/apple-iphone-8-plus-s...  Apple       84900   \n",
       "3  https://www.flipkart.com/apple-iphone-8-silver...  Apple       77000   \n",
       "4  https://www.flipkart.com/apple-iphone-8-gold-2...  Apple       77000   \n",
       "\n",
       "     Mrp  Discount Percentage  Number Of Ratings  Number Of Reviews  \\\n",
       "0  49900                    0               3431                356   \n",
       "1  84900                    0               3431                356   \n",
       "2  84900                    0               3431                356   \n",
       "3  77000                    0              11202                794   \n",
       "4  77000                    0              11202                794   \n",
       "\n",
       "                Upc  Star Rating   Ram  \n",
       "0  MOBEXRGV7EHHTGUH          4.6  2 GB  \n",
       "1  MOBEXRGVAC6TJT4F          4.6  2 GB  \n",
       "2  MOBEXRGVGETABXWZ          4.6  2 GB  \n",
       "3  MOBEXRGVMZWUHCBA          4.5  2 GB  \n",
       "4  MOBEXRGVPK7PFEJZ          4.5  2 GB  "
      ]
     },
     "execution_count": 4,
     "metadata": {},
     "output_type": "execute_result"
    }
   ],
   "source": [
    "df.head()"
   ]
  },
  {
   "cell_type": "code",
   "execution_count": 5,
   "id": "1952412a",
   "metadata": {},
   "outputs": [
    {
     "data": {
      "text/plain": [
       "Product Name           62\n",
       "Product URL            62\n",
       "Brand                  62\n",
       "Sale Price             62\n",
       "Mrp                    62\n",
       "Discount Percentage    62\n",
       "Number Of Ratings      62\n",
       "Number Of Reviews      62\n",
       "Upc                    62\n",
       "Star Rating            62\n",
       "Ram                    62\n",
       "dtype: int64"
      ]
     },
     "execution_count": 5,
     "metadata": {},
     "output_type": "execute_result"
    }
   ],
   "source": [
    "df.count()"
   ]
  },
  {
   "cell_type": "code",
   "execution_count": 8,
   "id": "9f7ae003",
   "metadata": {},
   "outputs": [
    {
     "data": {
      "text/plain": [
       "Index(['Product Name', 'Product URL', 'Brand', 'Sale Price', 'Mrp',\n",
       "       'Discount Percentage', 'Number Of Ratings', 'Number Of Reviews', 'Upc',\n",
       "       'Star Rating', 'Ram'],\n",
       "      dtype='object')"
      ]
     },
     "execution_count": 8,
     "metadata": {},
     "output_type": "execute_result"
    }
   ],
   "source": [
    "df.columns"
   ]
  },
  {
   "cell_type": "code",
   "execution_count": 9,
   "id": "d79b2f75",
   "metadata": {},
   "outputs": [
    {
     "data": {
      "text/plain": [
       "Product Name            object\n",
       "Product URL             object\n",
       "Brand                   object\n",
       "Sale Price               int64\n",
       "Mrp                      int64\n",
       "Discount Percentage      int64\n",
       "Number Of Ratings        int64\n",
       "Number Of Reviews        int64\n",
       "Upc                     object\n",
       "Star Rating            float64\n",
       "Ram                     object\n",
       "dtype: object"
      ]
     },
     "execution_count": 9,
     "metadata": {},
     "output_type": "execute_result"
    }
   ],
   "source": [
    "df.dtypes"
   ]
  },
  {
   "cell_type": "code",
   "execution_count": 10,
   "id": "c15158d9",
   "metadata": {},
   "outputs": [
    {
     "data": {
      "text/plain": [
       "140900"
      ]
     },
     "execution_count": 10,
     "metadata": {},
     "output_type": "execute_result"
    }
   ],
   "source": [
    "df['Sale Price'].max()"
   ]
  },
  {
   "cell_type": "code",
   "execution_count": 11,
   "id": "66ff5bd4",
   "metadata": {},
   "outputs": [
    {
     "data": {
      "text/plain": [
       "29999"
      ]
     },
     "execution_count": 11,
     "metadata": {},
     "output_type": "execute_result"
    }
   ],
   "source": [
    "df['Sale Price'].min()"
   ]
  },
  {
   "cell_type": "code",
   "execution_count": 14,
   "id": "3d5ee1c2",
   "metadata": {},
   "outputs": [
    {
     "data": {
      "text/html": [
       "<div>\n",
       "<style scoped>\n",
       "    .dataframe tbody tr th:only-of-type {\n",
       "        vertical-align: middle;\n",
       "    }\n",
       "\n",
       "    .dataframe tbody tr th {\n",
       "        vertical-align: top;\n",
       "    }\n",
       "\n",
       "    .dataframe thead th {\n",
       "        text-align: right;\n",
       "    }\n",
       "</style>\n",
       "<table border=\"1\" class=\"dataframe\">\n",
       "  <thead>\n",
       "    <tr style=\"text-align: right;\">\n",
       "      <th></th>\n",
       "      <th>Product Name</th>\n",
       "      <th>Product URL</th>\n",
       "      <th>Brand</th>\n",
       "      <th>Sale Price</th>\n",
       "      <th>Mrp</th>\n",
       "      <th>Discount Percentage</th>\n",
       "      <th>Number Of Ratings</th>\n",
       "      <th>Number Of Reviews</th>\n",
       "      <th>Upc</th>\n",
       "      <th>Star Rating</th>\n",
       "      <th>Ram</th>\n",
       "    </tr>\n",
       "  </thead>\n",
       "  <tbody>\n",
       "    <tr>\n",
       "      <th>24</th>\n",
       "      <td>APPLE iPhone 12 Pro (Silver, 512 GB)</td>\n",
       "      <td>https://www.flipkart.com/apple-iphone-12-pro-s...</td>\n",
       "      <td>Apple</td>\n",
       "      <td>140900</td>\n",
       "      <td>149900</td>\n",
       "      <td>6</td>\n",
       "      <td>542</td>\n",
       "      <td>42</td>\n",
       "      <td>MOBFWBYZ5UY6ZBVA</td>\n",
       "      <td>4.5</td>\n",
       "      <td>4 GB</td>\n",
       "    </tr>\n",
       "    <tr>\n",
       "      <th>41</th>\n",
       "      <td>APPLE iPhone 12 Pro (Pacific Blue, 512 GB)</td>\n",
       "      <td>https://www.flipkart.com/apple-iphone-12-pro-p...</td>\n",
       "      <td>Apple</td>\n",
       "      <td>140900</td>\n",
       "      <td>149900</td>\n",
       "      <td>6</td>\n",
       "      <td>545</td>\n",
       "      <td>42</td>\n",
       "      <td>MOBFWBYZTHSXKMGW</td>\n",
       "      <td>4.5</td>\n",
       "      <td>4 GB</td>\n",
       "    </tr>\n",
       "  </tbody>\n",
       "</table>\n",
       "</div>"
      ],
      "text/plain": [
       "                                  Product Name  \\\n",
       "24        APPLE iPhone 12 Pro (Silver, 512 GB)   \n",
       "41  APPLE iPhone 12 Pro (Pacific Blue, 512 GB)   \n",
       "\n",
       "                                          Product URL  Brand  Sale Price  \\\n",
       "24  https://www.flipkart.com/apple-iphone-12-pro-s...  Apple      140900   \n",
       "41  https://www.flipkart.com/apple-iphone-12-pro-p...  Apple      140900   \n",
       "\n",
       "       Mrp  Discount Percentage  Number Of Ratings  Number Of Reviews  \\\n",
       "24  149900                    6                542                 42   \n",
       "41  149900                    6                545                 42   \n",
       "\n",
       "                 Upc  Star Rating   Ram  \n",
       "24  MOBFWBYZ5UY6ZBVA          4.5  4 GB  \n",
       "41  MOBFWBYZTHSXKMGW          4.5  4 GB  "
      ]
     },
     "execution_count": 14,
     "metadata": {},
     "output_type": "execute_result"
    }
   ],
   "source": [
    "df[df['Sale Price']==140900]"
   ]
  },
  {
   "cell_type": "code",
   "execution_count": 15,
   "id": "e123a7ee",
   "metadata": {},
   "outputs": [
    {
     "data": {
      "text/plain": [
       "24          APPLE iPhone 12 Pro (Silver, 512 GB)\n",
       "41    APPLE iPhone 12 Pro (Pacific Blue, 512 GB)\n",
       "Name: Product Name, dtype: object"
      ]
     },
     "execution_count": 15,
     "metadata": {},
     "output_type": "execute_result"
    }
   ],
   "source": [
    "df[df['Sale Price']==140900]['Product Name']"
   ]
  },
  {
   "cell_type": "code",
   "execution_count": 18,
   "id": "43c3a0f4",
   "metadata": {},
   "outputs": [
    {
     "data": {
      "text/plain": [
       "pandas.core.series.Series"
      ]
     },
     "execution_count": 18,
     "metadata": {},
     "output_type": "execute_result"
    }
   ],
   "source": [
    "type(df['Product Name'])"
   ]
  },
  {
   "cell_type": "code",
   "execution_count": 19,
   "id": "289ede96",
   "metadata": {},
   "outputs": [],
   "source": [
    "#series is basically a column\n",
    "#when we combine multiple column then it became a data frame"
   ]
  },
  {
   "cell_type": "code",
   "execution_count": 20,
   "id": "1f81fd91",
   "metadata": {},
   "outputs": [
    {
     "data": {
      "text/plain": [
       "['APPLE iPhone 8 Plus (Gold, 64 GB)',\n",
       " 'APPLE iPhone 8 Plus (Space Grey, 256 GB)',\n",
       " 'APPLE iPhone 8 Plus (Silver, 256 GB)',\n",
       " 'APPLE iPhone 8 (Silver, 256 GB)',\n",
       " 'APPLE iPhone 8 (Gold, 256 GB)',\n",
       " 'APPLE iPhone 8 Plus (Silver, 64 GB)',\n",
       " 'APPLE iPhone 8 Plus (Space Grey, 64 GB)',\n",
       " 'APPLE iPhone 8 (Space Grey, 256 GB)',\n",
       " 'APPLE iPhone XS Max (Silver, 64 GB)',\n",
       " 'Apple iPhone XR ((PRODUCT)RED, 128 GB) (Includes EarPods, Power Adapter)',\n",
       " 'Apple iPhone XR (Black, 64 GB) (Includes EarPods, Power Adapter)',\n",
       " 'Apple iPhone XR (Coral, 128 GB) (Includes EarPods, Power Adapter)',\n",
       " 'Apple iPhone XR (Black, 128 GB) (Includes EarPods, Power Adapter)',\n",
       " 'Apple iPhone XR (White, 128 GB) (Includes EarPods, Power Adapter)',\n",
       " 'APPLE iPhone 11 Pro Max (Gold, 256 GB)',\n",
       " 'APPLE iPhone 11 Pro Max (Gold, 64 GB)',\n",
       " 'APPLE iPhone 11 Pro Max (Midnight Green, 256 GB)',\n",
       " 'APPLE iPhone 11 Pro Max (Space Grey, 64 GB)',\n",
       " 'APPLE iPhone 11 Pro (Midnight Green, 64 GB)',\n",
       " 'APPLE iPhone 11 Pro (Space Grey, 512 GB)',\n",
       " 'APPLE iPhone 11 Pro Max (Midnight Green, 64 GB)',\n",
       " 'APPLE iPhone 11 Pro (Midnight Green, 512 GB)',\n",
       " 'APPLE iPhone 11 Pro (Space Grey, 256 GB)',\n",
       " 'Apple iPhone SE (White, 256 GB) (Includes EarPods, Power Adapter)',\n",
       " 'APPLE iPhone 12 Pro (Silver, 512 GB)',\n",
       " 'APPLE iPhone 12 Pro Max (Pacific Blue, 256 GB)',\n",
       " 'APPLE iPhone 12 Mini (White, 128 GB)',\n",
       " 'APPLE iPhone 12 Pro (Graphite, 256 GB)',\n",
       " 'APPLE iPhone 12 Mini (White, 64 GB)',\n",
       " 'APPLE iPhone 12 (White, 128 GB)',\n",
       " 'APPLE iPhone 12 Pro (Graphite, 128 GB)',\n",
       " 'APPLE iPhone 12 Pro Max (Graphite, 256 GB)',\n",
       " 'APPLE iPhone 12 Pro Max (Graphite, 128 GB)',\n",
       " 'APPLE iPhone 12 Mini (Black, 128 GB)',\n",
       " 'APPLE iPhone 12 Mini (Blue, 128 GB)',\n",
       " 'APPLE iPhone 12 (Black, 128 GB)',\n",
       " 'APPLE iPhone 12 (Blue, 128 GB)',\n",
       " 'APPLE iPhone 12 Pro Max (Silver, 128 GB)',\n",
       " 'APPLE iPhone 12 Mini (Red, 64 GB)',\n",
       " 'APPLE iPhone 12 Pro Max (Gold, 128 GB)',\n",
       " 'APPLE iPhone 12 (Green, 128 GB)',\n",
       " 'APPLE iPhone 12 Pro (Pacific Blue, 512 GB)',\n",
       " 'APPLE iPhone 12 (White, 64 GB)',\n",
       " 'APPLE iPhone 12 (Black, 64 GB)',\n",
       " 'APPLE iPhone 12 (Red, 128 GB)',\n",
       " 'APPLE iPhone 12 Mini (Black, 64 GB)',\n",
       " 'APPLE iPhone 12 Pro (Pacific Blue, 128 GB)',\n",
       " 'APPLE iPhone 12 Pro Max (Pacific Blue, 128 GB)',\n",
       " 'APPLE iPhone 12 Pro Max (Silver, 256 GB)',\n",
       " 'APPLE iPhone 12 Pro Max (Gold, 256 GB)',\n",
       " 'APPLE iPhone 11 (White, 128 GB)',\n",
       " 'APPLE iPhone 11 (Red, 128 GB)',\n",
       " 'APPLE iPhone SE (White, 64 GB)',\n",
       " 'APPLE iPhone SE (Black, 128 GB)',\n",
       " 'APPLE iPhone SE (White, 128 GB)',\n",
       " 'APPLE iPhone SE (Red, 128 GB)',\n",
       " 'APPLE iPhone 11 (Black, 128 GB)',\n",
       " 'APPLE iPhone SE (Black, 64 GB)',\n",
       " 'APPLE iPhone 11 (Purple, 64 GB)',\n",
       " 'APPLE iPhone 11 (White, 64 GB)',\n",
       " 'APPLE iPhone 11 (Black, 64 GB)',\n",
       " 'APPLE iPhone 11 (Red, 64 GB)']"
      ]
     },
     "execution_count": 20,
     "metadata": {},
     "output_type": "execute_result"
    }
   ],
   "source": [
    "list(df['Product Name'])"
   ]
  },
  {
   "cell_type": "code",
   "execution_count": 21,
   "id": "bb1bcee5",
   "metadata": {},
   "outputs": [
    {
     "data": {
      "text/plain": [
       "'APPLE iPhone 8 Plus (Gold, 64 GB)'"
      ]
     },
     "execution_count": 21,
     "metadata": {},
     "output_type": "execute_result"
    }
   ],
   "source": [
    "#now we have to take out the iPhone 11 from the list by slicing and indexing\n",
    "df['Product Name'][0]"
   ]
  },
  {
   "cell_type": "code",
   "execution_count": 23,
   "id": "1f4b41d1",
   "metadata": {},
   "outputs": [
    {
     "data": {
      "text/plain": [
       "'IPHONE 8 PLUS (GOLD, 64 GB)'"
      ]
     },
     "execution_count": 23,
     "metadata": {},
     "output_type": "execute_result"
    }
   ],
   "source": [
    "df['Product Name'][0][6:].upper()"
   ]
  },
  {
   "cell_type": "code",
   "execution_count": 24,
   "id": "277fcf64",
   "metadata": {},
   "outputs": [
    {
     "data": {
      "text/plain": [
       "'IPHONE 8 '"
      ]
     },
     "execution_count": 24,
     "metadata": {},
     "output_type": "execute_result"
    }
   ],
   "source": [
    "df['Product Name'][0][6:15].upper()"
   ]
  },
  {
   "cell_type": "code",
   "execution_count": 25,
   "id": "d3c216cc",
   "metadata": {},
   "outputs": [
    {
     "data": {
      "text/plain": [
       "'IPHONE 8'"
      ]
     },
     "execution_count": 25,
     "metadata": {},
     "output_type": "execute_result"
    }
   ],
   "source": [
    "df['Product Name'][0][6:15].upper().strip()"
   ]
  },
  {
   "cell_type": "code",
   "execution_count": 26,
   "id": "7fefd89f",
   "metadata": {},
   "outputs": [
    {
     "data": {
      "text/plain": [
       "62"
      ]
     },
     "execution_count": 26,
     "metadata": {},
     "output_type": "execute_result"
    }
   ],
   "source": [
    "len(list(df['Product Name']))"
   ]
  },
  {
   "cell_type": "code",
   "execution_count": 33,
   "id": "8bc0fd78",
   "metadata": {},
   "outputs": [],
   "source": [
    "IPHONE=[]"
   ]
  },
  {
   "cell_type": "code",
   "execution_count": 34,
   "id": "fcaf3317",
   "metadata": {},
   "outputs": [
    {
     "name": "stdout",
     "output_type": "stream",
     "text": [
      "IPHONE 8\n",
      "IPHONE 8\n",
      "IPHONE 8\n",
      "IPHONE 8\n",
      "IPHONE 8\n",
      "IPHONE 8\n",
      "IPHONE 8\n",
      "IPHONE 8\n",
      "IPHONE XS\n",
      "IPHONE XR\n",
      "IPHONE XR\n",
      "IPHONE XR\n",
      "IPHONE XR\n",
      "IPHONE XR\n",
      "IPHONE 11\n",
      "IPHONE 11\n",
      "IPHONE 11\n",
      "IPHONE 11\n",
      "IPHONE 11\n",
      "IPHONE 11\n",
      "IPHONE 11\n",
      "IPHONE 11\n",
      "IPHONE 11\n",
      "IPHONE SE\n",
      "IPHONE 12\n",
      "IPHONE 12\n",
      "IPHONE 12\n",
      "IPHONE 12\n",
      "IPHONE 12\n",
      "IPHONE 12\n",
      "IPHONE 12\n",
      "IPHONE 12\n",
      "IPHONE 12\n",
      "IPHONE 12\n",
      "IPHONE 12\n",
      "IPHONE 12\n",
      "IPHONE 12\n",
      "IPHONE 12\n",
      "IPHONE 12\n",
      "IPHONE 12\n",
      "IPHONE 12\n",
      "IPHONE 12\n",
      "IPHONE 12\n",
      "IPHONE 12\n",
      "IPHONE 12\n",
      "IPHONE 12\n",
      "IPHONE 12\n",
      "IPHONE 12\n",
      "IPHONE 12\n",
      "IPHONE 12\n",
      "IPHONE 11\n",
      "IPHONE 11\n",
      "IPHONE SE\n",
      "IPHONE SE\n",
      "IPHONE SE\n",
      "IPHONE SE\n",
      "IPHONE 11\n",
      "IPHONE SE\n",
      "IPHONE 11\n",
      "IPHONE 11\n",
      "IPHONE 11\n",
      "IPHONE 11\n"
     ]
    }
   ],
   "source": [
    "for i in range(len(list(df['Product Name']))):\n",
    "    print(df['Product Name'][i][6:15].upper().strip())\n",
    "    IPHONE.append(df['Product Name'][i][6:15].upper().strip())"
   ]
  },
  {
   "cell_type": "code",
   "execution_count": 35,
   "id": "acd19615",
   "metadata": {},
   "outputs": [
    {
     "data": {
      "text/plain": [
       "['IPHONE 8',\n",
       " 'IPHONE 8',\n",
       " 'IPHONE 8',\n",
       " 'IPHONE 8',\n",
       " 'IPHONE 8',\n",
       " 'IPHONE 8',\n",
       " 'IPHONE 8',\n",
       " 'IPHONE 8',\n",
       " 'IPHONE XS',\n",
       " 'IPHONE XR',\n",
       " 'IPHONE XR',\n",
       " 'IPHONE XR',\n",
       " 'IPHONE XR',\n",
       " 'IPHONE XR',\n",
       " 'IPHONE 11',\n",
       " 'IPHONE 11',\n",
       " 'IPHONE 11',\n",
       " 'IPHONE 11',\n",
       " 'IPHONE 11',\n",
       " 'IPHONE 11',\n",
       " 'IPHONE 11',\n",
       " 'IPHONE 11',\n",
       " 'IPHONE 11',\n",
       " 'IPHONE SE',\n",
       " 'IPHONE 12',\n",
       " 'IPHONE 12',\n",
       " 'IPHONE 12',\n",
       " 'IPHONE 12',\n",
       " 'IPHONE 12',\n",
       " 'IPHONE 12',\n",
       " 'IPHONE 12',\n",
       " 'IPHONE 12',\n",
       " 'IPHONE 12',\n",
       " 'IPHONE 12',\n",
       " 'IPHONE 12',\n",
       " 'IPHONE 12',\n",
       " 'IPHONE 12',\n",
       " 'IPHONE 12',\n",
       " 'IPHONE 12',\n",
       " 'IPHONE 12',\n",
       " 'IPHONE 12',\n",
       " 'IPHONE 12',\n",
       " 'IPHONE 12',\n",
       " 'IPHONE 12',\n",
       " 'IPHONE 12',\n",
       " 'IPHONE 12',\n",
       " 'IPHONE 12',\n",
       " 'IPHONE 12',\n",
       " 'IPHONE 12',\n",
       " 'IPHONE 12',\n",
       " 'IPHONE 11',\n",
       " 'IPHONE 11',\n",
       " 'IPHONE SE',\n",
       " 'IPHONE SE',\n",
       " 'IPHONE SE',\n",
       " 'IPHONE SE',\n",
       " 'IPHONE 11',\n",
       " 'IPHONE SE',\n",
       " 'IPHONE 11',\n",
       " 'IPHONE 11',\n",
       " 'IPHONE 11',\n",
       " 'IPHONE 11']"
      ]
     },
     "execution_count": 35,
     "metadata": {},
     "output_type": "execute_result"
    }
   ],
   "source": [
    "IPHONE"
   ]
  },
  {
   "cell_type": "code",
   "execution_count": 36,
   "id": "0e6ab383",
   "metadata": {},
   "outputs": [],
   "source": [
    "df['IPHONE']=IPHONE"
   ]
  },
  {
   "cell_type": "code",
   "execution_count": 37,
   "id": "17502da1",
   "metadata": {},
   "outputs": [
    {
     "data": {
      "text/html": [
       "<div>\n",
       "<style scoped>\n",
       "    .dataframe tbody tr th:only-of-type {\n",
       "        vertical-align: middle;\n",
       "    }\n",
       "\n",
       "    .dataframe tbody tr th {\n",
       "        vertical-align: top;\n",
       "    }\n",
       "\n",
       "    .dataframe thead th {\n",
       "        text-align: right;\n",
       "    }\n",
       "</style>\n",
       "<table border=\"1\" class=\"dataframe\">\n",
       "  <thead>\n",
       "    <tr style=\"text-align: right;\">\n",
       "      <th></th>\n",
       "      <th>Product Name</th>\n",
       "      <th>Product URL</th>\n",
       "      <th>Brand</th>\n",
       "      <th>Sale Price</th>\n",
       "      <th>Mrp</th>\n",
       "      <th>Discount Percentage</th>\n",
       "      <th>Number Of Ratings</th>\n",
       "      <th>Number Of Reviews</th>\n",
       "      <th>Upc</th>\n",
       "      <th>Star Rating</th>\n",
       "      <th>Ram</th>\n",
       "      <th>IPHONE</th>\n",
       "    </tr>\n",
       "  </thead>\n",
       "  <tbody>\n",
       "    <tr>\n",
       "      <th>0</th>\n",
       "      <td>APPLE iPhone 8 Plus (Gold, 64 GB)</td>\n",
       "      <td>https://www.flipkart.com/apple-iphone-8-plus-g...</td>\n",
       "      <td>Apple</td>\n",
       "      <td>49900</td>\n",
       "      <td>49900</td>\n",
       "      <td>0</td>\n",
       "      <td>3431</td>\n",
       "      <td>356</td>\n",
       "      <td>MOBEXRGV7EHHTGUH</td>\n",
       "      <td>4.6</td>\n",
       "      <td>2 GB</td>\n",
       "      <td>IPHONE 8</td>\n",
       "    </tr>\n",
       "    <tr>\n",
       "      <th>1</th>\n",
       "      <td>APPLE iPhone 8 Plus (Space Grey, 256 GB)</td>\n",
       "      <td>https://www.flipkart.com/apple-iphone-8-plus-s...</td>\n",
       "      <td>Apple</td>\n",
       "      <td>84900</td>\n",
       "      <td>84900</td>\n",
       "      <td>0</td>\n",
       "      <td>3431</td>\n",
       "      <td>356</td>\n",
       "      <td>MOBEXRGVAC6TJT4F</td>\n",
       "      <td>4.6</td>\n",
       "      <td>2 GB</td>\n",
       "      <td>IPHONE 8</td>\n",
       "    </tr>\n",
       "    <tr>\n",
       "      <th>2</th>\n",
       "      <td>APPLE iPhone 8 Plus (Silver, 256 GB)</td>\n",
       "      <td>https://www.flipkart.com/apple-iphone-8-plus-s...</td>\n",
       "      <td>Apple</td>\n",
       "      <td>84900</td>\n",
       "      <td>84900</td>\n",
       "      <td>0</td>\n",
       "      <td>3431</td>\n",
       "      <td>356</td>\n",
       "      <td>MOBEXRGVGETABXWZ</td>\n",
       "      <td>4.6</td>\n",
       "      <td>2 GB</td>\n",
       "      <td>IPHONE 8</td>\n",
       "    </tr>\n",
       "    <tr>\n",
       "      <th>3</th>\n",
       "      <td>APPLE iPhone 8 (Silver, 256 GB)</td>\n",
       "      <td>https://www.flipkart.com/apple-iphone-8-silver...</td>\n",
       "      <td>Apple</td>\n",
       "      <td>77000</td>\n",
       "      <td>77000</td>\n",
       "      <td>0</td>\n",
       "      <td>11202</td>\n",
       "      <td>794</td>\n",
       "      <td>MOBEXRGVMZWUHCBA</td>\n",
       "      <td>4.5</td>\n",
       "      <td>2 GB</td>\n",
       "      <td>IPHONE 8</td>\n",
       "    </tr>\n",
       "    <tr>\n",
       "      <th>4</th>\n",
       "      <td>APPLE iPhone 8 (Gold, 256 GB)</td>\n",
       "      <td>https://www.flipkart.com/apple-iphone-8-gold-2...</td>\n",
       "      <td>Apple</td>\n",
       "      <td>77000</td>\n",
       "      <td>77000</td>\n",
       "      <td>0</td>\n",
       "      <td>11202</td>\n",
       "      <td>794</td>\n",
       "      <td>MOBEXRGVPK7PFEJZ</td>\n",
       "      <td>4.5</td>\n",
       "      <td>2 GB</td>\n",
       "      <td>IPHONE 8</td>\n",
       "    </tr>\n",
       "    <tr>\n",
       "      <th>...</th>\n",
       "      <td>...</td>\n",
       "      <td>...</td>\n",
       "      <td>...</td>\n",
       "      <td>...</td>\n",
       "      <td>...</td>\n",
       "      <td>...</td>\n",
       "      <td>...</td>\n",
       "      <td>...</td>\n",
       "      <td>...</td>\n",
       "      <td>...</td>\n",
       "      <td>...</td>\n",
       "      <td>...</td>\n",
       "    </tr>\n",
       "    <tr>\n",
       "      <th>57</th>\n",
       "      <td>APPLE iPhone SE (Black, 64 GB)</td>\n",
       "      <td>https://www.flipkart.com/apple-iphone-se-black...</td>\n",
       "      <td>Apple</td>\n",
       "      <td>29999</td>\n",
       "      <td>39900</td>\n",
       "      <td>24</td>\n",
       "      <td>95909</td>\n",
       "      <td>8161</td>\n",
       "      <td>MOBFWQ6BR3MK7AUG</td>\n",
       "      <td>4.5</td>\n",
       "      <td>4 GB</td>\n",
       "      <td>IPHONE SE</td>\n",
       "    </tr>\n",
       "    <tr>\n",
       "      <th>58</th>\n",
       "      <td>APPLE iPhone 11 (Purple, 64 GB)</td>\n",
       "      <td>https://www.flipkart.com/apple-iphone-11-purpl...</td>\n",
       "      <td>Apple</td>\n",
       "      <td>46999</td>\n",
       "      <td>54900</td>\n",
       "      <td>14</td>\n",
       "      <td>43470</td>\n",
       "      <td>3331</td>\n",
       "      <td>MOBFWQ6BTFFJKGKE</td>\n",
       "      <td>4.6</td>\n",
       "      <td>4 GB</td>\n",
       "      <td>IPHONE 11</td>\n",
       "    </tr>\n",
       "    <tr>\n",
       "      <th>59</th>\n",
       "      <td>APPLE iPhone 11 (White, 64 GB)</td>\n",
       "      <td>https://www.flipkart.com/apple-iphone-11-white...</td>\n",
       "      <td>Apple</td>\n",
       "      <td>46999</td>\n",
       "      <td>54900</td>\n",
       "      <td>14</td>\n",
       "      <td>43470</td>\n",
       "      <td>3331</td>\n",
       "      <td>MOBFWQ6BVWVEH3XE</td>\n",
       "      <td>4.6</td>\n",
       "      <td>4 GB</td>\n",
       "      <td>IPHONE 11</td>\n",
       "    </tr>\n",
       "    <tr>\n",
       "      <th>60</th>\n",
       "      <td>APPLE iPhone 11 (Black, 64 GB)</td>\n",
       "      <td>https://www.flipkart.com/apple-iphone-11-black...</td>\n",
       "      <td>Apple</td>\n",
       "      <td>46999</td>\n",
       "      <td>54900</td>\n",
       "      <td>14</td>\n",
       "      <td>43470</td>\n",
       "      <td>3331</td>\n",
       "      <td>MOBFWQ6BXGJCEYNY</td>\n",
       "      <td>4.6</td>\n",
       "      <td>4 GB</td>\n",
       "      <td>IPHONE 11</td>\n",
       "    </tr>\n",
       "    <tr>\n",
       "      <th>61</th>\n",
       "      <td>APPLE iPhone 11 (Red, 64 GB)</td>\n",
       "      <td>https://www.flipkart.com/apple-iphone-11-red-6...</td>\n",
       "      <td>Apple</td>\n",
       "      <td>46999</td>\n",
       "      <td>54900</td>\n",
       "      <td>14</td>\n",
       "      <td>43470</td>\n",
       "      <td>3331</td>\n",
       "      <td>MOBFWQ6BYYV3FCU7</td>\n",
       "      <td>4.6</td>\n",
       "      <td>4 GB</td>\n",
       "      <td>IPHONE 11</td>\n",
       "    </tr>\n",
       "  </tbody>\n",
       "</table>\n",
       "<p>62 rows × 12 columns</p>\n",
       "</div>"
      ],
      "text/plain": [
       "                                Product Name  \\\n",
       "0          APPLE iPhone 8 Plus (Gold, 64 GB)   \n",
       "1   APPLE iPhone 8 Plus (Space Grey, 256 GB)   \n",
       "2       APPLE iPhone 8 Plus (Silver, 256 GB)   \n",
       "3            APPLE iPhone 8 (Silver, 256 GB)   \n",
       "4              APPLE iPhone 8 (Gold, 256 GB)   \n",
       "..                                       ...   \n",
       "57            APPLE iPhone SE (Black, 64 GB)   \n",
       "58           APPLE iPhone 11 (Purple, 64 GB)   \n",
       "59            APPLE iPhone 11 (White, 64 GB)   \n",
       "60            APPLE iPhone 11 (Black, 64 GB)   \n",
       "61              APPLE iPhone 11 (Red, 64 GB)   \n",
       "\n",
       "                                          Product URL  Brand  Sale Price  \\\n",
       "0   https://www.flipkart.com/apple-iphone-8-plus-g...  Apple       49900   \n",
       "1   https://www.flipkart.com/apple-iphone-8-plus-s...  Apple       84900   \n",
       "2   https://www.flipkart.com/apple-iphone-8-plus-s...  Apple       84900   \n",
       "3   https://www.flipkart.com/apple-iphone-8-silver...  Apple       77000   \n",
       "4   https://www.flipkart.com/apple-iphone-8-gold-2...  Apple       77000   \n",
       "..                                                ...    ...         ...   \n",
       "57  https://www.flipkart.com/apple-iphone-se-black...  Apple       29999   \n",
       "58  https://www.flipkart.com/apple-iphone-11-purpl...  Apple       46999   \n",
       "59  https://www.flipkart.com/apple-iphone-11-white...  Apple       46999   \n",
       "60  https://www.flipkart.com/apple-iphone-11-black...  Apple       46999   \n",
       "61  https://www.flipkart.com/apple-iphone-11-red-6...  Apple       46999   \n",
       "\n",
       "      Mrp  Discount Percentage  Number Of Ratings  Number Of Reviews  \\\n",
       "0   49900                    0               3431                356   \n",
       "1   84900                    0               3431                356   \n",
       "2   84900                    0               3431                356   \n",
       "3   77000                    0              11202                794   \n",
       "4   77000                    0              11202                794   \n",
       "..    ...                  ...                ...                ...   \n",
       "57  39900                   24              95909               8161   \n",
       "58  54900                   14              43470               3331   \n",
       "59  54900                   14              43470               3331   \n",
       "60  54900                   14              43470               3331   \n",
       "61  54900                   14              43470               3331   \n",
       "\n",
       "                 Upc  Star Rating   Ram     IPHONE  \n",
       "0   MOBEXRGV7EHHTGUH          4.6  2 GB   IPHONE 8  \n",
       "1   MOBEXRGVAC6TJT4F          4.6  2 GB   IPHONE 8  \n",
       "2   MOBEXRGVGETABXWZ          4.6  2 GB   IPHONE 8  \n",
       "3   MOBEXRGVMZWUHCBA          4.5  2 GB   IPHONE 8  \n",
       "4   MOBEXRGVPK7PFEJZ          4.5  2 GB   IPHONE 8  \n",
       "..               ...          ...   ...        ...  \n",
       "57  MOBFWQ6BR3MK7AUG          4.5  4 GB  IPHONE SE  \n",
       "58  MOBFWQ6BTFFJKGKE          4.6  4 GB  IPHONE 11  \n",
       "59  MOBFWQ6BVWVEH3XE          4.6  4 GB  IPHONE 11  \n",
       "60  MOBFWQ6BXGJCEYNY          4.6  4 GB  IPHONE 11  \n",
       "61  MOBFWQ6BYYV3FCU7          4.6  4 GB  IPHONE 11  \n",
       "\n",
       "[62 rows x 12 columns]"
      ]
     },
     "execution_count": 37,
     "metadata": {},
     "output_type": "execute_result"
    }
   ],
   "source": [
    "df"
   ]
  },
  {
   "cell_type": "code",
   "execution_count": 41,
   "id": "02288f00",
   "metadata": {},
   "outputs": [
    {
     "name": "stdout",
     "output_type": "stream",
     "text": [
      "ashwin ashwin ashwin ashwin ashwin \n"
     ]
    }
   ],
   "source": [
    "print(\"ashwin \" * 5)"
   ]
  },
  {
   "cell_type": "code",
   "execution_count": 42,
   "id": "95cd26c6",
   "metadata": {},
   "outputs": [
    {
     "name": "stdout",
     "output_type": "stream",
     "text": [
      "4\n"
     ]
    }
   ],
   "source": [
    "print(round(3.5))"
   ]
  },
  {
   "cell_type": "code",
   "execution_count": 43,
   "id": "4bfea2eb",
   "metadata": {},
   "outputs": [],
   "source": [
    "k=[2,3,6,7,8]\n",
    "l=[5,2,5]"
   ]
  },
  {
   "cell_type": "code",
   "execution_count": 44,
   "id": "f12899f9",
   "metadata": {},
   "outputs": [
    {
     "data": {
      "text/plain": [
       "[2, 3, 6, 7, 8, [5, 2, 5]]"
      ]
     },
     "execution_count": 44,
     "metadata": {},
     "output_type": "execute_result"
    }
   ],
   "source": [
    "k.append(l)\n",
    "k"
   ]
  },
  {
   "cell_type": "code",
   "execution_count": 45,
   "id": "7bed95f4",
   "metadata": {},
   "outputs": [
    {
     "data": {
      "text/plain": [
       "[2, 3, 6, 7, 8, [5, 2, 5], 5, 2, 5]"
      ]
     },
     "execution_count": 45,
     "metadata": {},
     "output_type": "execute_result"
    }
   ],
   "source": [
    "k.extend(l)\n",
    "k"
   ]
  },
  {
   "cell_type": "code",
   "execution_count": 46,
   "id": "684a4c8e",
   "metadata": {},
   "outputs": [
    {
     "name": "stdout",
     "output_type": "stream",
     "text": [
      "{1, 2, 3, 4}\n"
     ]
    }
   ],
   "source": [
    "k={1,2,3}\n",
    "k.add(4)\n",
    "print(k)"
   ]
  },
  {
   "cell_type": "code",
   "execution_count": 47,
   "id": "34a7f04c",
   "metadata": {},
   "outputs": [
    {
     "name": "stdout",
     "output_type": "stream",
     "text": [
      "[1, 7, 8]\n"
     ]
    }
   ],
   "source": [
    "k=[1,2,7,8]\n",
    "k.remove(2)\n",
    "print(k)"
   ]
  },
  {
   "cell_type": "code",
   "execution_count": 48,
   "id": "ad938bed",
   "metadata": {},
   "outputs": [
    {
     "name": "stdout",
     "output_type": "stream",
     "text": [
      "a\n",
      "b\n",
      "c\n"
     ]
    }
   ],
   "source": [
    "dict={'a':1,'b':2,'c':3}\n",
    "for i in dict:\n",
    "    print(i)"
   ]
  },
  {
   "cell_type": "code",
   "execution_count": 51,
   "id": "fd85d3c2",
   "metadata": {},
   "outputs": [
    {
     "name": "stdout",
     "output_type": "stream",
     "text": [
      "1\n",
      "2\n",
      "3\n",
      "4\n"
     ]
    }
   ],
   "source": [
    "dict={'a':[1,2,3,4],'b':2,'c':3}\n",
    "for i in dict['a']:\n",
    "    print(i)"
   ]
  },
  {
   "cell_type": "code",
   "execution_count": 52,
   "id": "f4096cb8",
   "metadata": {},
   "outputs": [],
   "source": [
    "def database_columns(*args):\n",
    "    for arg in args:\n",
    "        print(arg)\n",
    "#*args is a dynamic argument"
   ]
  },
  {
   "cell_type": "code",
   "execution_count": 53,
   "id": "1ccd2f4d",
   "metadata": {},
   "outputs": [
    {
     "name": "stdout",
     "output_type": "stream",
     "text": [
      "name\n",
      "age\n",
      "height\n",
      "asdas\n",
      "aasd\n"
     ]
    }
   ],
   "source": [
    "database_columns(\"name\", \"age\", \"height\",'asdas', 'aasd')"
   ]
  },
  {
   "cell_type": "code",
   "execution_count": null,
   "id": "01dd4d95",
   "metadata": {},
   "outputs": [],
   "source": []
  }
 ],
 "metadata": {
  "kernelspec": {
   "display_name": "Python 3 (ipykernel)",
   "language": "python",
   "name": "python3"
  },
  "language_info": {
   "codemirror_mode": {
    "name": "ipython",
    "version": 3
   },
   "file_extension": ".py",
   "mimetype": "text/x-python",
   "name": "python",
   "nbconvert_exporter": "python",
   "pygments_lexer": "ipython3",
   "version": "3.9.13"
  }
 },
 "nbformat": 4,
 "nbformat_minor": 5
}
